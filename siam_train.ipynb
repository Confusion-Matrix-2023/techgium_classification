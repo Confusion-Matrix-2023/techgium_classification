{
 "cells": [
  {
   "cell_type": "code",
   "execution_count": 26,
   "metadata": {},
   "outputs": [],
   "source": [
    "from fastai.vision.all import *\n",
    "from models.swin_transformer_v2 import SwinTransformerV2\n",
    "from fastai.layers import *\n",
    "import torch\n",
    "import models\n",
    "from torchvision import transforms\n",
    "from torchvision.transforms import InterpolationMode\n",
    "from timm.data.constants import IMAGENET_DEFAULT_MEAN, IMAGENET_DEFAULT_STD\n",
    "import PIL"
   ]
  },
  {
   "cell_type": "code",
   "execution_count": 27,
   "metadata": {},
   "outputs": [],
   "source": [
    "defaults.device = torch.device('cuda')"
   ]
  },
  {
   "cell_type": "code",
   "execution_count": 28,
   "metadata": {},
   "outputs": [],
   "source": [
    "def label_func(x):\n",
    "    return x.parent.name"
   ]
  },
  {
   "cell_type": "code",
   "execution_count": 29,
   "metadata": {},
   "outputs": [],
   "source": [
    "class SiameseImage(fastuple):\n",
    "    def show(self, ctx=None, **kwargs): \n",
    "        if len(self) > 2:\n",
    "            img1,img2,similarity = self\n",
    "        else:\n",
    "            img1,img2 = self\n",
    "            similarity = 'Undetermined'\n",
    "        if not isinstance(img1, Tensor):\n",
    "            if img2.size != img1.size: img2 = img2.resize(img1.size)\n",
    "            t1,t2 = tensor(img1),tensor(img2)\n",
    "            t1,t2 = t1.permute(2,0,1),t2.permute(2,0,1)\n",
    "        else: t1,t2 = img1,img2\n",
    "        line = t1.new_zeros(t1.shape[0], t1.shape[1], 10)\n",
    "        return show_image(torch.cat([t1,line,t2], dim=2), title=similarity, ctx=ctx, **kwargs)"
   ]
  },
  {
   "cell_type": "code",
   "execution_count": 30,
   "metadata": {},
   "outputs": [],
   "source": [
    "class SiameseTransform(Transform):\n",
    "    def __init__(self, files, splits):\n",
    "        self.splbl2files = [{l: [f for f in files[splits[i]] if label_func(f) == l] for l in labels}\n",
    "                          for i in range(2)]\n",
    "        self.valid = {f: self._draw(f,1) for f in files[splits[1]]}\n",
    "    def encodes(self, f):\n",
    "        f2,same = self.valid.get(f, self._draw(f,0))\n",
    "        img1,img2 = PILImage.create(f),PILImage.create(f2)\n",
    "        return SiameseImage(img1, img2, int(same))\n",
    "    \n",
    "    def _draw(self, f, split=0):\n",
    "        same = random.random() < 0.5\n",
    "        cls = label_func(f)\n",
    "        prod = f.name.split(\"_\")[0]\n",
    "        if not same: cls = random.choice(L(l for l in labels if l != cls)) \n",
    "        prod_constrained_files = [file for file in self.splbl2files[split][cls] if file.name.split(\"_\")[0] == prod]\n",
    "        return random.choice(prod_constrained_files),same"
   ]
  },
  {
   "cell_type": "code",
   "execution_count": 31,
   "metadata": {},
   "outputs": [],
   "source": [
    "class ImageTuple(fastuple):\n",
    "    @classmethod\n",
    "    def create(cls, fns): return cls(tuple(PILImage.create(f) for f in fns))\n",
    "    \n",
    "    def show(self, ctx=None, **kwargs): \n",
    "        t1,t2 = self\n",
    "        if not isinstance(t1, Tensor) or not isinstance(t2, Tensor) or t1.shape != t2.shape: return ctx\n",
    "        line = t1.new_zeros(t1.shape[0], t1.shape[1], 10)\n",
    "        return show_image(torch.cat([t1,line,t2], dim=2), ctx=ctx, **kwargs)"
   ]
  },
  {
   "cell_type": "code",
   "execution_count": 32,
   "metadata": {},
   "outputs": [],
   "source": [
    "path = Path(\"/home/ubuntu/data/mvtec_classification/\")"
   ]
  },
  {
   "cell_type": "code",
   "execution_count": 33,
   "metadata": {},
   "outputs": [
    {
     "data": {
      "text/plain": [
       "2"
      ]
     },
     "execution_count": 33,
     "metadata": {},
     "output_type": "execute_result"
    }
   ],
   "source": [
    "images = get_image_files(path)\n",
    "labels = list(set(images.map(label_func)))\n",
    "len(labels)"
   ]
  },
  {
   "cell_type": "code",
   "execution_count": 34,
   "metadata": {},
   "outputs": [
    {
     "data": {
      "text/plain": [
       "['defective', 'good']"
      ]
     },
     "execution_count": 34,
     "metadata": {},
     "output_type": "execute_result"
    }
   ],
   "source": [
    "labels"
   ]
  },
  {
   "cell_type": "code",
   "execution_count": 35,
   "metadata": {},
   "outputs": [],
   "source": [
    "t = []\n",
    "\n",
    "t.append(transforms.Resize((256, 256), interpolation=InterpolationMode.BICUBIC))\n",
    "t.append(transforms.ToTensor())\n",
    "t.append(transforms.Normalize(IMAGENET_DEFAULT_MEAN, IMAGENET_DEFAULT_STD))\n",
    "data_transforms = transforms.Compose(t)"
   ]
  },
  {
   "cell_type": "code",
   "execution_count": 36,
   "metadata": {},
   "outputs": [],
   "source": [
    "splits = GrandparentSplitter(train_name=\"train\", valid_name=\"test\")(images)\n",
    "tfm = SiameseTransform(images, splits)\n",
    "tls = TfmdLists(images, tfm, splits=splits)\n",
    "dls = tls.dataloaders(after_item=[Resize((256, 256)), ToTensor], \n",
    "                        batch_size = 16,\n",
    "                      after_batch=[IntToFloatTensor, Normalize.from_stats(*imagenet_stats)])"
   ]
  },
  {
   "cell_type": "code",
   "execution_count": 37,
   "metadata": {},
   "outputs": [],
   "source": [
    "@typedispatch\n",
    "def show_batch(x: SiameseImage, y, samples, \n",
    "               ctxs = None, max_n = 6, \n",
    "               nrows = None, ncols = 2, \n",
    "               figsize = None, **kwargs):\n",
    "    if figsize is None: \n",
    "        figsize = (ncols * 6, max_n // ncols * 3)\n",
    "    if ctxs is None: \n",
    "        ctxs = get_grid(\n",
    "            min(x[0].shape[0], max_n), \n",
    "            nrows = None, ncols = ncols, \n",
    "            figsize = figsize\n",
    "        )\n",
    "    for i,ctx in enumerate(ctxs): \n",
    "        SiameseImage(x[0][i], x[1][i], int(x[2][i])).show(ctx=ctx)"
   ]
  },
  {
   "cell_type": "code",
   "execution_count": 38,
   "metadata": {},
   "outputs": [],
   "source": [
    "# dls.show_batch()"
   ]
  },
  {
   "cell_type": "code",
   "execution_count": 39,
   "metadata": {},
   "outputs": [],
   "source": [
    "swin_model = SwinTransformerV2(\n",
    "    img_size=256,\n",
    "    patch_size=4,\n",
    "    in_chans=3,\n",
    "    num_classes=1000,\n",
    "    embed_dim=96,\n",
    "    depths=[2, 2, 6, 2],\n",
    "    num_heads=[3, 6, 12, 24],\n",
    "    window_size=8,\n",
    "    mlp_ratio=4.0,\n",
    "    qkv_bias=True,\n",
    "    drop_rate=0.0,\n",
    "    drop_path_rate=0.2,\n",
    "    ape=False,\n",
    "    patch_norm=True,\n",
    "    use_checkpoint=True,\n",
    "    pretrained_window_sizes=[0, 0, 0, 0],\n",
    "    no_head=True,\n",
    ")"
   ]
  },
  {
   "cell_type": "code",
   "execution_count": 40,
   "metadata": {},
   "outputs": [
    {
     "data": {
      "text/plain": [
       "<All keys matched successfully>"
      ]
     },
     "execution_count": 40,
     "metadata": {},
     "output_type": "execute_result"
    }
   ],
   "source": [
    "swin_model.load_state_dict(torch.load('/home/ubuntu/deployment/ckpt_swin_t.pth')['model'])"
   ]
  },
  {
   "cell_type": "code",
   "execution_count": 41,
   "metadata": {},
   "outputs": [],
   "source": [
    "class SiameseModel(Module):\n",
    "    def __init__(self, encoder, head):\n",
    "        self.encoder,self.head = encoder,head\n",
    "    \n",
    "    def forward(self, x1, x2):\n",
    "        ftrs = torch.cat([self.encoder(x1), self.encoder(x2)], dim=1)\n",
    "        return self.head(ftrs)\n",
    "    \n",
    "    def siampredict(self:Learner, item, rm_type_tfms=None, with_input=False):\n",
    "        res = self.predict(item, rm_type_tfms=None, with_input=False)\n",
    "        if res[0] == tensor(0):\n",
    "            SiameseImage(item[0], item[1], 'Prediction: Not similar').show()\n",
    "        else:\n",
    "            SiameseImage(item[0], item[1], 'Prediction: Similar').show()\n",
    "        return res"
   ]
  },
  {
   "cell_type": "code",
   "execution_count": 42,
   "metadata": {},
   "outputs": [],
   "source": [
    "encoder = swin_model"
   ]
  },
  {
   "cell_type": "code",
   "execution_count": 43,
   "metadata": {},
   "outputs": [],
   "source": [
    "class Head(nn.Module):\n",
    "    def __init__(self, bn_num=3072):\n",
    "        super(Head, self).__init__()\n",
    "        self.flatten = nn.Flatten()\n",
    "        self.bn1 = torch.nn.BatchNorm1d(bn_num, eps=1e-05, momentum=0.1, affine=True, track_running_stats=True)\n",
    "        self.dropout1 = torch.nn.Dropout(p=0.5, inplace=False)\n",
    "        self.linear1 = torch.nn.Linear(in_features=bn_num, out_features=512, bias=True)\n",
    "        self.relu = torch.nn.ReLU()\n",
    "        self.bn2 = torch.nn.BatchNorm1d(512, eps=1e-05, momentum=0.1, affine=True, track_running_stats=True)\n",
    "        self.dropout2 = torch.nn.Dropout(p=0.5, inplace=False)\n",
    "        self.linear2 = torch.nn.Linear(in_features=512, out_features=2, bias=True)\n",
    "        \n",
    "\n",
    "    def forward(self, x):\n",
    "        x = self.flatten(x)\n",
    "        x = self.bn1(x)\n",
    "        x = self.dropout1(x)\n",
    "        x = self.linear1(x)\n",
    "        x = self.relu(x)\n",
    "        x = self.bn2(x)\n",
    "        x = self.dropout2(x)\n",
    "        x = self.linear2(x)\n",
    "        return x"
   ]
  },
  {
   "cell_type": "code",
   "execution_count": 44,
   "metadata": {},
   "outputs": [],
   "source": [
    "head = Head(bn_num=2000)\n",
    "model = SiameseModel(encoder, head)"
   ]
  },
  {
   "cell_type": "code",
   "execution_count": 45,
   "metadata": {},
   "outputs": [],
   "source": [
    "# model = model.to('cuda')"
   ]
  },
  {
   "cell_type": "code",
   "execution_count": 46,
   "metadata": {},
   "outputs": [],
   "source": [
    "def siamese_splitter(model):\n",
    "    return [params(model.encoder), params(model.head)]"
   ]
  },
  {
   "cell_type": "code",
   "execution_count": 47,
   "metadata": {},
   "outputs": [],
   "source": [
    "def loss_func(out, targ):\n",
    "    return CrossEntropyLossFlat()(out, targ.long())"
   ]
  },
  {
   "cell_type": "code",
   "execution_count": 48,
   "metadata": {},
   "outputs": [],
   "source": [
    "learn = Learner(dls, model, loss_func=CrossEntropyLossFlat(), splitter=siamese_splitter, metrics=accuracy)"
   ]
  },
  {
   "cell_type": "code",
   "execution_count": 49,
   "metadata": {},
   "outputs": [],
   "source": [
    "learn.freeze()"
   ]
  },
  {
   "cell_type": "code",
   "execution_count": 50,
   "metadata": {},
   "outputs": [
    {
     "data": {
      "text/html": [],
      "text/plain": [
       "<IPython.core.display.HTML object>"
      ]
     },
     "metadata": {},
     "output_type": "display_data"
    },
    {
     "data": {
      "text/plain": [
       "SuggestedLRs(valley=0.0010000000474974513)"
      ]
     },
     "execution_count": 50,
     "metadata": {},
     "output_type": "execute_result"
    },
    {
     "data": {
      "image/png": "[encoded data removed]",
      "text/plain": [
       "<Figure size 640x480 with 1 Axes>"
      ]
     },
     "metadata": {},
     "output_type": "display_data"
    }
   ],
   "source": [
    "learn.lr_find()"
   ]
  },
  {
   "cell_type": "code",
   "execution_count": 51,
   "metadata": {},
   "outputs": [
    {
     "data": {
      "text/html": [
       "<table border=\"1\" class=\"dataframe\">\n",
       "  <thead>\n",
       "    <tr style=\"text-align: left;\">\n",
       "      <th>epoch</th>\n",
       "      <th>train_loss</th>\n",
       "      <th>valid_loss</th>\n",
       "      <th>accuracy</th>\n",
       "      <th>time</th>\n",
       "    </tr>\n",
       "  </thead>\n",
       "  <tbody>\n",
       "    <tr>\n",
       "      <td>0</td>\n",
       "      <td>0.382713</td>\n",
       "      <td>0.085077</td>\n",
       "      <td>0.975892</td>\n",
       "      <td>01:44</td>\n",
       "    </tr>\n",
       "    <tr>\n",
       "      <td>1</td>\n",
       "      <td>0.180591</td>\n",
       "      <td>0.059945</td>\n",
       "      <td>0.977821</td>\n",
       "      <td>01:42</td>\n",
       "    </tr>\n",
       "    <tr>\n",
       "      <td>2</td>\n",
       "      <td>0.164309</td>\n",
       "      <td>0.069546</td>\n",
       "      <td>0.977821</td>\n",
       "      <td>01:42</td>\n",
       "    </tr>\n",
       "    <tr>\n",
       "      <td>3</td>\n",
       "      <td>0.118710</td>\n",
       "      <td>0.073574</td>\n",
       "      <td>0.977821</td>\n",
       "      <td>01:43</td>\n",
       "    </tr>\n",
       "    <tr>\n",
       "      <td>4</td>\n",
       "      <td>0.107147</td>\n",
       "      <td>0.069584</td>\n",
       "      <td>0.979749</td>\n",
       "      <td>01:43</td>\n",
       "    </tr>\n",
       "    <tr>\n",
       "      <td>5</td>\n",
       "      <td>0.076468</td>\n",
       "      <td>0.064469</td>\n",
       "      <td>0.980714</td>\n",
       "      <td>01:44</td>\n",
       "    </tr>\n",
       "    <tr>\n",
       "      <td>6</td>\n",
       "      <td>0.090470</td>\n",
       "      <td>0.072659</td>\n",
       "      <td>0.980714</td>\n",
       "      <td>01:43</td>\n",
       "    </tr>\n",
       "    <tr>\n",
       "      <td>7</td>\n",
       "      <td>0.058730</td>\n",
       "      <td>0.070385</td>\n",
       "      <td>0.980714</td>\n",
       "      <td>01:43</td>\n",
       "    </tr>\n",
       "    <tr>\n",
       "      <td>8</td>\n",
       "      <td>0.085672</td>\n",
       "      <td>0.063459</td>\n",
       "      <td>0.981678</td>\n",
       "      <td>01:43</td>\n",
       "    </tr>\n",
       "    <tr>\n",
       "      <td>9</td>\n",
       "      <td>0.059366</td>\n",
       "      <td>0.073161</td>\n",
       "      <td>0.980714</td>\n",
       "      <td>01:43</td>\n",
       "    </tr>\n",
       "  </tbody>\n",
       "</table>"
      ],
      "text/plain": [
       "<IPython.core.display.HTML object>"
      ]
     },
     "metadata": {},
     "output_type": "display_data"
    }
   ],
   "source": [
    "learn.fit_one_cycle(10, 1e-3)"
   ]
  },
  {
   "cell_type": "code",
   "execution_count": 52,
   "metadata": {},
   "outputs": [
    {
     "data": {
      "text/plain": [
       "Path('models/siamese_swin_tiny.pth')"
      ]
     },
     "execution_count": 52,
     "metadata": {},
     "output_type": "execute_result"
    }
   ],
   "source": [
    "#save model\n",
    "learn.save('siamese_swin_tiny')"
   ]
  }
 ],
 "metadata": {
  "kernelspec": {
   "display_name": "fastai",
   "language": "python",
   "name": "python3"
  },
  "language_info": {
   "codemirror_mode": {
    "name": "ipython",
    "version": 3
   },
   "file_extension": ".py",
   "mimetype": "text/x-python",
   "name": "python",
   "nbconvert_exporter": "python",
   "pygments_lexer": "ipython3",
   "version": "3.10.9"
  },
  "orig_nbformat": 4,
  "vscode": {
   "interpreter": {
    "hash": "553cb25bfdc98054443abdd6e854c3e1fca537575f7c5cca6debc8a204c01692"
   }
  }
 },
 "nbformat": 4,
 "nbformat_minor": 2
}
