{
 "cells": [
  {
   "cell_type": "code",
   "execution_count": null,
   "metadata": {},
   "outputs": [],
   "source": [
    "from fastai.vision.all import get_image_files\n",
    "import os\n",
    "from pathlib import Path\n",
    "import shutil"
   ]
  },
  {
   "cell_type": "code",
   "execution_count": null,
   "metadata": {},
   "outputs": [],
   "source": [
    "source = Path('/home/ubuntu/data/mvtec/')\n",
    "dest = Path('/home/ubuntu/data/mvtec_classification/')"
   ]
  },
  {
   "cell_type": "code",
   "execution_count": null,
   "metadata": {},
   "outputs": [],
   "source": [
    "# get all directories in source\n",
    "products = [x for x in source.iterdir() if x.is_dir()]"
   ]
  },
  {
   "cell_type": "code",
   "execution_count": null,
   "metadata": {},
   "outputs": [],
   "source": [
    "def label_fn(file):\n",
    "    return file.parent.name"
   ]
  },
  {
   "cell_type": "code",
   "execution_count": null,
   "metadata": {},
   "outputs": [],
   "source": [
    "SPLIT_PCT = 0.2"
   ]
  },
  {
   "cell_type": "code",
   "execution_count": 23,
   "metadata": {},
   "outputs": [
    {
     "name": "stdout",
     "output_type": "stream",
     "text": [
      "transistor\n",
      "Number of images:  313\n",
      "Lable good has 273 images\n",
      "Split:  219 54\n",
      "Lable misplaced has 10 images\n",
      "Split:  8 2\n",
      "Lable bent_lead has 10 images\n",
      "Split:  8 2\n",
      "Lable cut_lead has 10 images\n",
      "Split:  8 2\n",
      "Lable damaged_case has 10 images\n",
      "Split:  8 2\n",
      "screw\n",
      "Number of images:  480\n",
      "Lable good has 361 images\n",
      "Split:  289 72\n",
      "Lable scratch_neck has 25 images\n",
      "Split:  20 5\n",
      "Lable thread_top has 23 images\n",
      "Split:  19 4\n",
      "Lable thread_side has 23 images\n",
      "Split:  19 4\n",
      "Lable scratch_head has 24 images\n",
      "Split:  20 4\n",
      "Lable manipulated_front has 24 images\n",
      "Split:  20 4\n",
      "grid\n",
      "Number of images:  342\n",
      "Lable good has 285 images\n",
      "Split:  228 57\n",
      "Lable thread has 11 images\n",
      "Split:  9 2\n",
      "Lable bent has 12 images\n",
      "Split:  10 2\n",
      "Lable broken has 12 images\n",
      "Split:  10 2\n",
      "Lable glue has 11 images\n",
      "Split:  9 2\n",
      "Lable metal_contamination has 11 images\n",
      "Split:  9 2\n",
      "tile\n",
      "Number of images:  347\n",
      "Lable good has 263 images\n",
      "Split:  211 52\n",
      "Lable rough has 15 images\n",
      "Split:  12 3\n",
      "Lable gray_stroke has 16 images\n",
      "Split:  13 3\n",
      "Lable glue_strip has 18 images\n",
      "Split:  15 3\n",
      "Lable crack has 17 images\n",
      "Split:  14 3\n",
      "Lable oil has 18 images\n",
      "Split:  15 3\n",
      "toothbrush\n",
      "Number of images:  102\n",
      "Lable good has 72 images\n",
      "Split:  58 14\n",
      "Lable defective has 30 images\n",
      "Split:  24 6\n",
      "carpet\n",
      "Number of images:  397\n",
      "Lable good has 308 images\n",
      "Split:  247 61\n",
      "Lable hole has 17 images\n",
      "Split:  14 3\n",
      "Lable thread has 19 images\n",
      "Split:  16 3\n",
      "Lable color has 19 images\n",
      "Split:  16 3\n",
      "Lable cut has 17 images\n",
      "Split:  14 3\n",
      "Lable metal_contamination has 17 images\n",
      "Split:  14 3\n",
      "capsule\n",
      "Number of images:  351\n",
      "Lable good has 242 images\n",
      "Split:  194 48\n",
      "Lable squeeze has 20 images\n",
      "Split:  16 4\n",
      "Lable crack has 23 images\n",
      "Split:  19 4\n",
      "Lable scratch has 23 images\n",
      "Split:  19 4\n",
      "Lable faulty_imprint has 22 images\n",
      "Split:  18 4\n",
      "Lable poke has 21 images\n",
      "Split:  17 4\n",
      "zipper\n",
      "Number of images:  391\n",
      "Lable good has 272 images\n",
      "Split:  218 54\n",
      "Lable rough has 17 images\n",
      "Split:  14 3\n",
      "Lable squeezed_teeth has 16 images\n",
      "Split:  13 3\n",
      "Lable fabric_border has 17 images\n",
      "Split:  14 3\n",
      "Lable fabric_interior has 16 images\n",
      "Split:  13 3\n",
      "Lable broken_teeth has 19 images\n",
      "Split:  16 3\n",
      "Lable combined has 16 images\n",
      "Split:  13 3\n",
      "Lable split_teeth has 18 images\n",
      "Split:  15 3\n",
      "cable\n",
      "Number of images:  374\n",
      "Lable good has 282 images\n",
      "Split:  226 56\n",
      "Lable missing_cable has 12 images\n",
      "Split:  10 2\n",
      "Lable cut_inner_insulation has 14 images\n",
      "Split:  12 2\n",
      "Lable cut_outer_insulation has 10 images\n",
      "Split:  8 2\n",
      "Lable cable_swap has 12 images\n",
      "Split:  10 2\n",
      "Lable poke_insulation has 10 images\n",
      "Split:  8 2\n",
      "Lable missing_wire has 10 images\n",
      "Split:  8 2\n",
      "Lable bent_wire has 13 images\n",
      "Split:  11 2\n",
      "Lable combined has 11 images\n",
      "Split:  9 2\n",
      "hazelnut\n",
      "Number of images:  501\n",
      "Lable good has 431 images\n",
      "Split:  345 86\n",
      "Lable crack has 18 images\n",
      "Split:  15 3\n",
      "Lable hole has 18 images\n",
      "Split:  15 3\n",
      "Lable print has 17 images\n",
      "Split:  14 3\n",
      "Lable cut has 17 images\n",
      "Split:  14 3\n",
      "leather\n",
      "Number of images:  369\n",
      "Lable good has 277 images\n",
      "Split:  222 55\n",
      "Lable color has 19 images\n",
      "Split:  16 3\n",
      "Lable cut has 19 images\n",
      "Split:  16 3\n",
      "Lable poke has 18 images\n",
      "Split:  15 3\n",
      "Lable fold has 17 images\n",
      "Split:  14 3\n",
      "Lable glue has 19 images\n",
      "Split:  16 3\n",
      "metal_nut\n",
      "Number of images:  335\n",
      "Lable good has 242 images\n",
      "Split:  194 48\n",
      "Lable flip has 23 images\n",
      "Split:  19 4\n",
      "Lable scratch has 23 images\n",
      "Split:  19 4\n",
      "Lable color has 22 images\n",
      "Split:  18 4\n",
      "Lable bent has 25 images\n",
      "Split:  20 5\n",
      "wood\n",
      "Number of images:  326\n",
      "Lable good has 266 images\n",
      "Split:  213 53\n",
      "Lable hole has 10 images\n",
      "Split:  8 2\n",
      "Lable scratch has 21 images\n",
      "Split:  17 4\n",
      "Lable color has 8 images\n",
      "Split:  7 1\n",
      "Lable liquid has 10 images\n",
      "Split:  8 2\n",
      "Lable combined has 11 images\n",
      "Split:  9 2\n",
      "pill\n",
      "Number of images:  434\n",
      "Lable good has 293 images\n",
      "Split:  235 58\n",
      "Lable crack has 26 images\n",
      "Split:  21 5\n",
      "Lable scratch has 24 images\n",
      "Split:  20 4\n",
      "Lable pill_type has 9 images\n",
      "Split:  8 1\n",
      "Lable color has 25 images\n",
      "Split:  20 5\n",
      "Lable contamination has 21 images\n",
      "Split:  17 4\n",
      "Lable faulty_imprint has 19 images\n",
      "Split:  16 3\n",
      "Lable combined has 17 images\n",
      "Split:  14 3\n",
      "bottle\n",
      "Number of images:  292\n",
      "Lable good has 229 images\n",
      "Split:  184 45\n",
      "Lable broken_large has 20 images\n",
      "Split:  16 4\n",
      "Lable contamination has 21 images\n",
      "Split:  17 4\n",
      "Lable broken_small has 22 images\n",
      "Split:  18 4\n"
     ]
    }
   ],
   "source": [
    "good_count = 0\n",
    "defective_count = 0\n",
    "for product in products:\n",
    "    print(product.name)\n",
    "    image_files = get_image_files(product)\n",
    "    images = [file for file in image_files if file.parents[1].name in ['train', 'test']]\n",
    "    print(\"Number of images: \", len(images))\n",
    "    count_dict = {}\n",
    "    for image in images:\n",
    "        label = label_fn(image)\n",
    "        if label in count_dict:\n",
    "            count_dict[label].append(image)\n",
    "        else:\n",
    "            count_dict[label] = [image]\n",
    "    for label in count_dict:\n",
    "        print(\"Lable\", label, \"has\", len(count_dict[label]), \"images\")\n",
    "        split_point = int(len(count_dict[label]) * SPLIT_PCT)\n",
    "        train_images = count_dict[label][split_point:]\n",
    "        test_images = count_dict[label][:split_point]\n",
    "        print(\"Split: \", len(train_images), len(test_images))\n",
    "        \n",
    "        for image in train_images:\n",
    "            if label == \"good\":\n",
    "                dest_path = Path(dest / 'train' / \"good\")\n",
    "            else:\n",
    "                dest_path = Path(dest / 'train' / \"defective\")\n",
    "            dest_path.mkdir(parents=True, exist_ok=True)\n",
    "            shutil.copy2(image, dest_path/f\"{product.name}_{label}_{int(image.name[:-4])}.png\")\n",
    "        for image in test_images:\n",
    "            if label == \"good\":\n",
    "                dest_path = Path(dest / 'test' / \"good\")\n",
    "            else:\n",
    "                dest_path = Path(dest / 'test' / \"defective\")\n",
    "            dest_path.mkdir(parents=True, exist_ok=True)\n",
    "            shutil.copy2(image, dest_path/f\"{product.name}_{label}_{int(image.name[:-4])}.png\")"
   ]
  },
  {
   "cell_type": "code",
   "execution_count": 24,
   "metadata": {},
   "outputs": [
    {
     "name": "stdout",
     "output_type": "stream",
     "text": [
      "train\n",
      "good 2981\n",
      "defective 1034\n",
      "test\n",
      "good 813\n",
      "defective 224\n"
     ]
    }
   ],
   "source": [
    "# get number of images in each directory\n",
    "for directory in dest.iterdir():\n",
    "    print(directory.name)\n",
    "    for subdirectory in directory.iterdir():\n",
    "        print(subdirectory.name, len(os.listdir(subdirectory)))"
   ]
  },
  {
   "cell_type": "code",
   "execution_count": 25,
   "metadata": {},
   "outputs": [
    {
     "data": {
      "text/plain": [
       "5052"
      ]
     },
     "execution_count": 25,
     "metadata": {},
     "output_type": "execute_result"
    }
   ],
   "source": [
    "len(get_image_files(dest))"
   ]
  },
  {
   "cell_type": "code",
   "execution_count": 28,
   "metadata": {},
   "outputs": [],
   "source": [
    "images = [file for file in get_image_files(source) if file.parents[1].name in ['train', 'test']]"
   ]
  },
  {
   "cell_type": "code",
   "execution_count": 29,
   "metadata": {},
   "outputs": [
    {
     "data": {
      "text/plain": [
       "5354"
      ]
     },
     "execution_count": 29,
     "metadata": {},
     "output_type": "execute_result"
    }
   ],
   "source": [
    "len(images)"
   ]
  },
  {
   "cell_type": "code",
   "execution_count": null,
   "metadata": {},
   "outputs": [],
   "source": []
  }
 ],
 "metadata": {
  "kernelspec": {
   "display_name": "fastai",
   "language": "python",
   "name": "python3"
  },
  "language_info": {
   "codemirror_mode": {
    "name": "ipython",
    "version": 3
   },
   "file_extension": ".py",
   "mimetype": "text/x-python",
   "name": "python",
   "nbconvert_exporter": "python",
   "pygments_lexer": "ipython3",
   "version": "3.10.9"
  },
  "orig_nbformat": 4,
  "vscode": {
   "interpreter": {
    "hash": "553cb25bfdc98054443abdd6e854c3e1fca537575f7c5cca6debc8a204c01692"
   }
  }
 },
 "nbformat": 4,
 "nbformat_minor": 2
}
